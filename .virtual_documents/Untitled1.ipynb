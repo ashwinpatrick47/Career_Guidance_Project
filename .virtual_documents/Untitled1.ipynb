import pandas as pd


df = pd.read_csv('dataset9000.csv')


df.info()


df.describe()


df.isnull().sum()


df.head()


from sklearn.preprocessing import LabelEncoder


df_encoded = df.copy()


le = LabelEncoder()


for columns in df_encoded.columns:
    df_encoded[columns] = le.fit_transform(df_encoded[columns])


df_encoded


X = df_encoded.drop('Role', axis=1)
y = df_encoded['Role']

from sklearn.model_selection import train_test_split

X_train, X_test, y_train, y_test = train_test_split(
    X, y, test_size=0.2, random_state=42
)



import matplotlib.pyplot as plt

plt.figure(figsize=(12, 6))
df['Role'].value_counts().plot(kind='bar')
plt.title("Distribution of Career Roles")
plt.ylabel("Count")
plt.xticks(rotation=45)
plt.grid(axis='y', linestyle='--', alpha=0.7)
plt.tight_layout()
plt.show()



import seaborn as sns

plt.figure(figsize=(14, 10))
sns.heatmap(df_encoded.corr(), annot=False, cmap='coolwarm')
plt.title("Feature Correlation Heatmap")
plt.tight_layout()
plt.show()



from sklearn.model_selection import train_test_split


X = df_encoded.drop('Role', axis=1)
y = df_encoded['Role']


X_train, X_test, y_train, y_test = train_test_split(
    X, y, test_size=0.2, random_state=42
)



from sklearn.ensemble import RandomForestClassifier
from sklearn.metrics import accuracy_score, classification_report

# Initialize model
model = RandomForestClassifier(random_state=42)

# Train the model
model.fit(X_train, y_train)

# Predict on test data
y_pred = model.predict(X_test)

# Evaluate
print("Accuracy:", accuracy_score(y_test, y_pred))
print("\nClassification Report:\n", classification_report(y_test, y_pred))



from sklearn.model_selection import cross_val_score

cv_scores = cross_val_score(model, X, y, cv=5)
print("Cross-validated accuracy:", cv_scores.mean())



import numpy as np

np.intersect1d(X_train.values, X_test.values).shape



!pip install joblib



import joblib

# Save the model to a file
joblib.dump(model, 'career_model.pkl')


import joblib

# Load model
model = joblib.load('career_model.pkl')

# Take first row of data as input
your_input_data = X.iloc[0].tolist()

# Predict
prediction = model.predict([your_input_data])
print("Predicted Career Role (encoded):", prediction[0])



from sklearn.preprocessing import LabelEncoder

# After training
le = LabelEncoder()
y = le.fit_transform(df['Role'])

# Later, to decode prediction
prediction = model.predict([your_input_data])
decoded_role = le.inverse_transform(prediction)

print("Predicted Career Role:", decoded_role[0])





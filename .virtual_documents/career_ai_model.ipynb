!pip install pandas scikit-learn joblib


import pandas as pd
df = pd.read_csv("careers_dataset.csv")


df


df.head()


df = df.drop(columns=['CandidateID', 'Name', 'Recommendation_Score'])


df.head()


from sklearn.preprocessing import LabelEncoder


le_education = LabelEncoder()


df['Education'] = le_education.fit_transform(df['Education'])


df.head()


df


skills_series = df['Skills'].str.split(';')


unique_skills = sorted(set(skill for sublist in skills_series for skill in sublist))


for skill in unique_skills:
    df[skill] = df['Skills'].apply(lambda x: 1 if skill in x else 0)


df = df.drop(columns=['Skills'])


df.head()


interests_series = df['Interests'].str.split(';')


unique_interests = sorted(set(interest for sublist in interests_series for interest in sublist))


for interest in unique_interests:
    df[interest] = df['Interests'].apply(lambda x: 1 if interest in x else 0)


df = df.drop(columns=['Interests'])


df.head()


le_career = LabelEncoder()


df['Recommended_Career'] = le_career.fit_transform(df['Recommended_Career'])


df.head()


df.head()


df.head()


df


x = df.drop(columns=['Recommended_Career'])


x


df


y = df["Recommended_Career"]


y


from sklearn.model_selection import train_test_split
X_train, X_test, Y_train, Y_test = train_test_split(x, y, test_size = 0.2, random_state = 42)


from sklearn.ensemble import RandomForestClassifier


model = RandomForestClassifier()


model.fit(X_train,Y_train)


from sklearn.metrics import accuracy_score


y_pred = model.predict(X_test)


accuracy = accuracy_score(Y_test, y_pred)


print(accuracy)


from sklearn.metrics import confusion_matrix, classification_report

y_pred = model.predict(X_test)
print(classification_report(Y_test, y_pred))



from sklearn.model_selection import cross_val_score
scores = cross_val_score(model, x, y, cv=5)
print("Cross-validated accuracy:", scores.mean())



x



